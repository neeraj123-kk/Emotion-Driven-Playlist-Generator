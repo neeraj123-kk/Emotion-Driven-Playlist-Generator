{
 "cells": [
  {
   "cell_type": "code",
   "execution_count": 1,
   "id": "49a3404d-8194-44ee-be20-15444900447c",
   "metadata": {},
   "outputs": [
    {
     "name": "stdout",
     "output_type": "stream",
     "text": [
      "Collecting opencv-python\n",
      "  Downloading opencv_python-4.11.0.86-cp37-abi3-win_amd64.whl.metadata (20 kB)\n",
      "Requirement already satisfied: keras in e:\\anaconda3.14\\lib\\site-packages (3.8.0)\n",
      "Requirement already satisfied: tensorflow in e:\\anaconda3.14\\lib\\site-packages (2.18.0)\n",
      "Collecting spotipy\n",
      "  Downloading spotipy-2.25.1-py3-none-any.whl.metadata (5.1 kB)\n",
      "Collecting textblob\n",
      "  Downloading textblob-0.19.0-py3-none-any.whl.metadata (4.4 kB)\n",
      "Requirement already satisfied: numpy>=1.21.2 in e:\\anaconda3.14\\lib\\site-packages (from opencv-python) (1.26.4)\n",
      "Requirement already satisfied: absl-py in e:\\anaconda3.14\\lib\\site-packages (from keras) (2.1.0)\n",
      "Requirement already satisfied: rich in e:\\anaconda3.14\\lib\\site-packages (from keras) (13.7.1)\n",
      "Requirement already satisfied: namex in e:\\anaconda3.14\\lib\\site-packages (from keras) (0.0.8)\n",
      "Requirement already satisfied: h5py in e:\\anaconda3.14\\lib\\site-packages (from keras) (3.11.0)\n",
      "Requirement already satisfied: optree in e:\\anaconda3.14\\lib\\site-packages (from keras) (0.13.1)\n",
      "Requirement already satisfied: ml-dtypes in e:\\anaconda3.14\\lib\\site-packages (from keras) (0.4.1)\n",
      "Requirement already satisfied: packaging in e:\\anaconda3.14\\lib\\site-packages (from keras) (24.1)\n",
      "Requirement already satisfied: tensorflow-intel==2.18.0 in e:\\anaconda3.14\\lib\\site-packages (from tensorflow) (2.18.0)\n",
      "Requirement already satisfied: astunparse>=1.6.0 in e:\\anaconda3.14\\lib\\site-packages (from tensorflow-intel==2.18.0->tensorflow) (1.6.3)\n",
      "Requirement already satisfied: flatbuffers>=24.3.25 in e:\\anaconda3.14\\lib\\site-packages (from tensorflow-intel==2.18.0->tensorflow) (24.12.23)\n",
      "Requirement already satisfied: gast!=0.5.0,!=0.5.1,!=0.5.2,>=0.2.1 in e:\\anaconda3.14\\lib\\site-packages (from tensorflow-intel==2.18.0->tensorflow) (0.6.0)\n",
      "Requirement already satisfied: google-pasta>=0.1.1 in e:\\anaconda3.14\\lib\\site-packages (from tensorflow-intel==2.18.0->tensorflow) (0.2.0)\n",
      "Requirement already satisfied: libclang>=13.0.0 in e:\\anaconda3.14\\lib\\site-packages (from tensorflow-intel==2.18.0->tensorflow) (18.1.1)\n",
      "Requirement already satisfied: opt-einsum>=2.3.2 in e:\\anaconda3.14\\lib\\site-packages (from tensorflow-intel==2.18.0->tensorflow) (3.4.0)\n",
      "Requirement already satisfied: protobuf!=4.21.0,!=4.21.1,!=4.21.2,!=4.21.3,!=4.21.4,!=4.21.5,<6.0.0dev,>=3.20.3 in e:\\anaconda3.14\\lib\\site-packages (from tensorflow-intel==2.18.0->tensorflow) (4.25.3)\n",
      "Requirement already satisfied: requests<3,>=2.21.0 in e:\\anaconda3.14\\lib\\site-packages (from tensorflow-intel==2.18.0->tensorflow) (2.32.3)\n",
      "Requirement already satisfied: setuptools in e:\\anaconda3.14\\lib\\site-packages (from tensorflow-intel==2.18.0->tensorflow) (75.1.0)\n",
      "Requirement already satisfied: six>=1.12.0 in e:\\anaconda3.14\\lib\\site-packages (from tensorflow-intel==2.18.0->tensorflow) (1.16.0)\n",
      "Requirement already satisfied: termcolor>=1.1.0 in e:\\anaconda3.14\\lib\\site-packages (from tensorflow-intel==2.18.0->tensorflow) (2.5.0)\n",
      "Requirement already satisfied: typing-extensions>=3.6.6 in e:\\anaconda3.14\\lib\\site-packages (from tensorflow-intel==2.18.0->tensorflow) (4.11.0)\n",
      "Requirement already satisfied: wrapt>=1.11.0 in e:\\anaconda3.14\\lib\\site-packages (from tensorflow-intel==2.18.0->tensorflow) (1.14.1)\n",
      "Requirement already satisfied: grpcio<2.0,>=1.24.3 in e:\\anaconda3.14\\lib\\site-packages (from tensorflow-intel==2.18.0->tensorflow) (1.69.0)\n",
      "Requirement already satisfied: tensorboard<2.19,>=2.18 in e:\\anaconda3.14\\lib\\site-packages (from tensorflow-intel==2.18.0->tensorflow) (2.18.0)\n",
      "Collecting redis>=3.5.3 (from spotipy)\n",
      "  Downloading redis-5.2.1-py3-none-any.whl.metadata (9.1 kB)\n",
      "Requirement already satisfied: urllib3>=1.26.0 in e:\\anaconda3.14\\lib\\site-packages (from spotipy) (2.2.3)\n",
      "Requirement already satisfied: nltk>=3.9 in e:\\anaconda3.14\\lib\\site-packages (from textblob) (3.9.1)\n",
      "Requirement already satisfied: click in e:\\anaconda3.14\\lib\\site-packages (from nltk>=3.9->textblob) (8.1.7)\n",
      "Requirement already satisfied: joblib in e:\\anaconda3.14\\lib\\site-packages (from nltk>=3.9->textblob) (1.4.2)\n",
      "Requirement already satisfied: regex>=2021.8.3 in e:\\anaconda3.14\\lib\\site-packages (from nltk>=3.9->textblob) (2024.9.11)\n",
      "Requirement already satisfied: tqdm in e:\\anaconda3.14\\lib\\site-packages (from nltk>=3.9->textblob) (4.66.5)\n",
      "Requirement already satisfied: charset-normalizer<4,>=2 in e:\\anaconda3.14\\lib\\site-packages (from requests<3,>=2.21.0->tensorflow-intel==2.18.0->tensorflow) (3.3.2)\n",
      "Requirement already satisfied: idna<4,>=2.5 in e:\\anaconda3.14\\lib\\site-packages (from requests<3,>=2.21.0->tensorflow-intel==2.18.0->tensorflow) (3.7)\n",
      "Requirement already satisfied: certifi>=2017.4.17 in e:\\anaconda3.14\\lib\\site-packages (from requests<3,>=2.21.0->tensorflow-intel==2.18.0->tensorflow) (2025.1.31)\n",
      "Requirement already satisfied: markdown-it-py>=2.2.0 in e:\\anaconda3.14\\lib\\site-packages (from rich->keras) (2.2.0)\n",
      "Requirement already satisfied: pygments<3.0.0,>=2.13.0 in e:\\anaconda3.14\\lib\\site-packages (from rich->keras) (2.15.1)\n",
      "Requirement already satisfied: wheel<1.0,>=0.23.0 in e:\\anaconda3.14\\lib\\site-packages (from astunparse>=1.6.0->tensorflow-intel==2.18.0->tensorflow) (0.44.0)\n",
      "Requirement already satisfied: mdurl~=0.1 in e:\\anaconda3.14\\lib\\site-packages (from markdown-it-py>=2.2.0->rich->keras) (0.1.0)\n",
      "Requirement already satisfied: markdown>=2.6.8 in e:\\anaconda3.14\\lib\\site-packages (from tensorboard<2.19,>=2.18->tensorflow-intel==2.18.0->tensorflow) (3.4.1)\n",
      "Requirement already satisfied: tensorboard-data-server<0.8.0,>=0.7.0 in e:\\anaconda3.14\\lib\\site-packages (from tensorboard<2.19,>=2.18->tensorflow-intel==2.18.0->tensorflow) (0.7.2)\n",
      "Requirement already satisfied: werkzeug>=1.0.1 in e:\\anaconda3.14\\lib\\site-packages (from tensorboard<2.19,>=2.18->tensorflow-intel==2.18.0->tensorflow) (3.0.3)\n",
      "Requirement already satisfied: colorama in e:\\anaconda3.14\\lib\\site-packages (from click->nltk>=3.9->textblob) (0.4.6)\n",
      "Requirement already satisfied: MarkupSafe>=2.1.1 in e:\\anaconda3.14\\lib\\site-packages (from werkzeug>=1.0.1->tensorboard<2.19,>=2.18->tensorflow-intel==2.18.0->tensorflow) (2.1.3)\n",
      "Downloading opencv_python-4.11.0.86-cp37-abi3-win_amd64.whl (39.5 MB)\n",
      "   ---------------------------------------- 0.0/39.5 MB ? eta -:--:--\n",
      "   ------ --------------------------------- 6.0/39.5 MB 41.2 MB/s eta 0:00:01\n",
      "   ------- -------------------------------- 7.1/39.5 MB 43.7 MB/s eta 0:00:01\n",
      "   -------------------- ------------------- 19.9/39.5 MB 35.9 MB/s eta 0:00:01\n",
      "   ---------------------------- ----------- 27.8/39.5 MB 36.7 MB/s eta 0:00:01\n",
      "   ------------------------------------ --- 35.9/39.5 MB 36.8 MB/s eta 0:00:01\n",
      "   ---------------------------------------- 39.5/39.5 MB 35.4 MB/s eta 0:00:00\n",
      "Downloading spotipy-2.25.1-py3-none-any.whl (31 kB)\n",
      "Downloading textblob-0.19.0-py3-none-any.whl (624 kB)\n",
      "   ---------------------------------------- 0.0/624.3 kB ? eta -:--:--\n",
      "   --------------------------------------- 624.3/624.3 kB 24.1 MB/s eta 0:00:00\n",
      "Downloading redis-5.2.1-py3-none-any.whl (261 kB)\n",
      "Installing collected packages: redis, opencv-python, spotipy, textblob\n",
      "Successfully installed opencv-python-4.11.0.86 redis-5.2.1 spotipy-2.25.1 textblob-0.19.0\n"
     ]
    }
   ],
   "source": [
    "!pip install opencv-python keras tensorflow spotipy textblob"
   ]
  },
  {
   "cell_type": "code",
   "execution_count": 29,
   "id": "73c7bb59-d168-4df3-81d1-dcec22b2dfe2",
   "metadata": {},
   "outputs": [],
   "source": [
    "# Import required libraries\n",
    "import cv2\n",
    "import numpy as np\n",
    "from keras.models import load_model\n",
    "import spotipy\n",
    "from spotipy.oauth2 import SpotifyOAuth\n",
    "from textblob import TextBlob\n",
    "import tkinter as tk \n",
    "from tkinter import messagebox, simpledialog"
   ]
  },
  {
   "cell_type": "markdown",
   "id": "7c93cecf-ff31-4e13-9707-6baf264e6d84",
   "metadata": {},
   "source": [
    "SPOTIFY API"
   ]
  },
  {
   "cell_type": "code",
   "execution_count": 9,
   "id": "110316d9-1ad7-4128-94e2-575d74e3de8e",
   "metadata": {},
   "outputs": [],
   "source": [
    "# Spotify API credentials\n",
    "SPOTIPY_CLIENT_ID = '8a585baa3e9943e28fb1af94fcc60e07'\n",
    "SPOTIPY_CLIENT_SECRET = 'c17d81613bf148f39aa5d3d437f0c64b'\n",
    "SPOTIPY_REDIRECT_URI = 'http://localhost:8888/callback'\n",
    "\n",
    "# Authenticate with Spotify\n",
    "sp = spotipy.Spotify(auth_manager=SpotifyOAuth(client_id=SPOTIPY_CLIENT_ID,\n",
    "                                              client_secret=SPOTIPY_CLIENT_SECRET,\n",
    "                                              redirect_uri=SPOTIPY_REDIRECT_URI,\n",
    "                                              scope=\"user-library-read playlist-modify-public\"))"
   ]
  },
  {
   "cell_type": "markdown",
   "id": "02253a8c-6e3b-458f-bb3e-ba0b6c9a7e45",
   "metadata": {},
   "source": [
    "FACE DETECTION "
   ]
  },
  {
   "cell_type": "code",
   "execution_count": 11,
   "id": "95b9ea36-d5b2-4ffa-9a21-54b969a585ab",
   "metadata": {},
   "outputs": [],
   "source": [
    "def detect_emotion_from_face():\n",
    "    # Load pre-trained emotion detection model\n",
    "    model = load_model('emotion_model.h5')  # Replace with your model path\n",
    "    emotions = ['Angry', 'Disgust', 'Fear', 'Happy', 'Sad', 'Surprise', 'Neutral']\n",
    "\n",
    "    # Initialize webcam\n",
    "    cap = cv2.VideoCapture(0)\n",
    "\n",
    "    while True:\n",
    "        ret, frame = cap.read()\n",
    "        gray = cv2.cvtColor(frame, cv2.COLOR_BGR2GRAY)\n",
    "        face_cascade = cv2.CascadeClassifier(cv2.data.haarcascades + 'haarcascade_frontalface_default.xml')\n",
    "        faces = face_cascade.detectMultiScale(gray, 1.3, 5)\n",
    "\n",
    "        for (x, y, w, h) in faces:\n",
    "            roi = gray[y:y+h, x:x+w]\n",
    "            roi = cv2.resize(roi, (48, 48))\n",
    "            roi = roi.astype('float') / 255.0\n",
    "            roi = np.expand_dims(roi, axis=0)\n",
    "            preds = model.predict(roi)[0]\n",
    "            emotion = emotions[np.argmax(preds)]\n",
    "            cv2.putText(frame, emotion, (x, y), cv2.FONT_HERSHEY_SIMPLEX, 1, (0, 255, 0), 2)\n",
    "\n",
    "        cv2.imshow('Emotion Detection', frame)\n",
    "        if cv2.waitKey(1) & 0xFF == ord('q'):\n",
    "            break\n",
    "\n",
    "    cap.release()\n",
    "    cv2.destroyAllWindows()\n",
    "    return emotion"
   ]
  },
  {
   "cell_type": "markdown",
   "id": "e80a7d72-f3b1-41e1-8840-66008dd07ece",
   "metadata": {},
   "source": [
    "TEXT DETECTION"
   ]
  },
  {
   "cell_type": "code",
   "execution_count": 22,
   "id": "5f860b03-a170-4557-beb1-8a289ac3c202",
   "metadata": {},
   "outputs": [],
   "source": [
    "def detect_emotion_from_text():\n",
    "    user_input = input(\"How are you feeling today? \")\n",
    "    analysis = TextBlob(user_input)\n",
    "    if analysis.sentiment.polarity > 0:\n",
    "        return \"Happy\"\n",
    "    elif analysis.sentiment.polarity < 0:\n",
    "        return \"Sad\"\n",
    "    else:\n",
    "        return \"Neutral\""
   ]
  },
  {
   "cell_type": "markdown",
   "id": "db39fbd0-b80f-44d9-b816-39b5e1d7263e",
   "metadata": {},
   "source": [
    "EMOTION MAPPING "
   ]
  },
  {
   "cell_type": "code",
   "execution_count": 15,
   "id": "a4e374f7-af54-4876-94fd-e8c38f77d964",
   "metadata": {},
   "outputs": [],
   "source": [
    "def get_emotion_based_playlist(emotion):\n",
    "    if emotion == \"Happy\":\n",
    "        results = sp.recommendations(seed_genres=['pop'], limit=10, target_valence=0.8, target_energy=0.8)\n",
    "    elif emotion == \"Sad\":\n",
    "        results = sp.recommendations(seed_genres=['blues'], limit=10, target_valence=0.2, target_energy=0.3)\n",
    "    elif emotion == \"Angry\":\n",
    "        results = sp.recommendations(seed_genres=['rock'], limit=10, target_valence=0.3, target_energy=0.9)\n",
    "    elif emotion == \"Calm\":\n",
    "        results = sp.recommendations(seed_genres=['classical'], limit=10, target_valence=0.5, target_energy=0.4)\n",
    "    else:\n",
    "        results = sp.recommendations(seed_genres=['pop'], limit=10)\n",
    "\n",
    "    playlist = []\n",
    "    for track in results['tracks']:\n",
    "        playlist.append({'name': track['name'], 'artist': track['artists'][0]['name'], 'url': track['external_urls']['spotify']})\n",
    "    return playlist"
   ]
  },
  {
   "cell_type": "code",
   "execution_count": 17,
   "id": "e74ccd4c-7486-491b-b4c2-64b544442a4c",
   "metadata": {},
   "outputs": [],
   "source": [
    "def create_playlist(emotion, playlist):\n",
    "    user_id = sp.me()['id']\n",
    "    playlist_name = f\"{emotion} Playlist\"\n",
    "    new_playlist = sp.user_playlist_create(user_id, playlist_name, public=True)\n",
    "    playlist_id = new_playlist['id']\n",
    "\n",
    "    track_uris = [sp.search(q=f\"{song['name']} {song['artist']}\", type='track', limit=1)['tracks']['items'][0]['uri'] for song in playlist]\n",
    "    sp.playlist_add_items(playlist_id, track_uris)\n",
    "    print(f\"Playlist created: {new_playlist['external_urls']['spotify']}\")"
   ]
  },
  {
   "cell_type": "markdown",
   "id": "5cbef070-ea35-418a-9ba7-a91d1dc1dbfe",
   "metadata": {},
   "source": [
    "GUI"
   ]
  },
  {
   "cell_type": "code",
   "execution_count": 25,
   "id": "7ce6c987-5855-47f5-bd15-15e084d505d8",
   "metadata": {},
   "outputs": [],
   "source": [
    "class PlaylistGeneratorApp:\n",
    "    def __init__(self, root):\n",
    "        self.root = root\n",
    "        self.root.title(\"Emotion-Driven Playlist Generator\")\n",
    "\n",
    "        # Create GUI elements\n",
    "        self.label = tk.Label(root, text=\"Welcome to the Emotion-Driven Playlist Generator!\", font=(\"Arial\", 16))\n",
    "        self.label.pack(pady=20)\n",
    "\n",
    "        self.face_button = tk.Button(root, text=\"Detect Emotion from Face\", command=self.detect_face_emotion, font=(\"Arial\", 14))\n",
    "        self.face_button.pack(pady=10)\n",
    "\n",
    "        self.text_button = tk.Button(root, text=\"Enter Emotion Manually\", command=self.detect_text_emotion, font=(\"Arial\", 14))\n",
    "        self.text_button.pack(pady=10)\n",
    "\n",
    "    def detect_face_emotion(self):\n",
    "        emotion = detect_emotion_from_face()\n",
    "        self.generate_playlist(emotion)\n",
    "\n",
    "    def detect_text_emotion(self):\n",
    "        emotion = detect_emotion_from_text()\n",
    "        self.generate_playlist(emotion)\n",
    "\n",
    "    def generate_playlist(self, emotion):\n",
    "        playlist = get_emotion_based_playlist(emotion)\n",
    "        create_playlist(emotion, playlist)"
   ]
  },
  {
   "cell_type": "code",
   "execution_count": null,
   "id": "d78d0616-5695-4340-948f-89fc8e13ec6e",
   "metadata": {},
   "outputs": [],
   "source": [
    "if __name__ == \"__main__\":\n",
    "    root = tk.Tk()\n",
    "    app = PlaylistGeneratorApp(root)\n",
    "    root.mainloop()"
   ]
  },
  {
   "cell_type": "code",
   "execution_count": null,
   "id": "bd6e20aa-e0ba-4b72-8551-d1cf60bc0966",
   "metadata": {},
   "outputs": [],
   "source": []
  }
 ],
 "metadata": {
  "kernelspec": {
   "display_name": "Python [conda env:base] *",
   "language": "python",
   "name": "conda-base-py"
  },
  "language_info": {
   "codemirror_mode": {
    "name": "ipython",
    "version": 3
   },
   "file_extension": ".py",
   "mimetype": "text/x-python",
   "name": "python",
   "nbconvert_exporter": "python",
   "pygments_lexer": "ipython3",
   "version": "3.12.7"
  }
 },
 "nbformat": 4,
 "nbformat_minor": 5
}
